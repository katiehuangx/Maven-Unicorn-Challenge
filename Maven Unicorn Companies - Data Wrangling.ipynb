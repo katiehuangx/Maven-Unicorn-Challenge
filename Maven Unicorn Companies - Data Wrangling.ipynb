{
 "cells": [
  {
   "cell_type": "markdown",
   "id": "3b7ab478",
   "metadata": {},
   "source": [
    "# Maven Unicorn Challenge: Data Wrangling\n",
    "\n",
    "Performed data wrangling and cleaning.\n",
    "1. Removed rows with missing values (Removed = 17 rows)\n",
    "2. Remove `\"$\"` and `\"B\"` from `Valuation` and `Funding` and cast as float\n",
    "3. Exclude rows with `\"Unknown\"` `Funding` values (Removed = 12 rows)\n",
    "4. Explode `Select Investors` into individual rows for categorical analysis\n",
    "\n",
    "Original data = 1,074 rows\n",
    "\n",
    "Cleaned data = 1,045 rows (2,974 exploded rows)\n"
   ]
  },
  {
   "cell_type": "code",
   "execution_count": 1,
   "id": "0cf87a5e",
   "metadata": {},
   "outputs": [],
   "source": [
    "# Import libraries\n",
    "import pandas as pd\n",
    "import warnings\n",
    "\n",
    "warnings.simplefilter(action=\"ignore\", category=FutureWarning)"
   ]
  },
  {
   "cell_type": "code",
   "execution_count": 2,
   "id": "c8927fb1",
   "metadata": {},
   "outputs": [],
   "source": [
    "# Read in CSV file\n",
    "df = pd.read_csv(\"Unicorn+Companies/Unicorn_Companies.csv\")"
   ]
  },
  {
   "cell_type": "code",
   "execution_count": 3,
   "id": "a0e4b078",
   "metadata": {},
   "outputs": [
    {
     "data": {
      "text/html": [
       "<div>\n",
       "<style scoped>\n",
       "    .dataframe tbody tr th:only-of-type {\n",
       "        vertical-align: middle;\n",
       "    }\n",
       "\n",
       "    .dataframe tbody tr th {\n",
       "        vertical-align: top;\n",
       "    }\n",
       "\n",
       "    .dataframe thead th {\n",
       "        text-align: right;\n",
       "    }\n",
       "</style>\n",
       "<table border=\"1\" class=\"dataframe\">\n",
       "  <thead>\n",
       "    <tr style=\"text-align: right;\">\n",
       "      <th></th>\n",
       "      <th>Company</th>\n",
       "      <th>Valuation</th>\n",
       "      <th>Date Joined</th>\n",
       "      <th>Industry</th>\n",
       "      <th>City</th>\n",
       "      <th>Country</th>\n",
       "      <th>Continent</th>\n",
       "      <th>Year Founded</th>\n",
       "      <th>Funding</th>\n",
       "      <th>Select Investors</th>\n",
       "    </tr>\n",
       "  </thead>\n",
       "  <tbody>\n",
       "    <tr>\n",
       "      <th>0</th>\n",
       "      <td>Bytedance</td>\n",
       "      <td>$180B</td>\n",
       "      <td>2017-04-07</td>\n",
       "      <td>Artificial intelligence</td>\n",
       "      <td>Beijing</td>\n",
       "      <td>China</td>\n",
       "      <td>Asia</td>\n",
       "      <td>2012</td>\n",
       "      <td>$8B</td>\n",
       "      <td>Sequoia Capital China, SIG Asia Investments, S...</td>\n",
       "    </tr>\n",
       "    <tr>\n",
       "      <th>1</th>\n",
       "      <td>SpaceX</td>\n",
       "      <td>$100B</td>\n",
       "      <td>2012-12-01</td>\n",
       "      <td>Other</td>\n",
       "      <td>Hawthorne</td>\n",
       "      <td>United States</td>\n",
       "      <td>North America</td>\n",
       "      <td>2002</td>\n",
       "      <td>$7B</td>\n",
       "      <td>Founders Fund, Draper Fisher Jurvetson, Rothen...</td>\n",
       "    </tr>\n",
       "    <tr>\n",
       "      <th>2</th>\n",
       "      <td>SHEIN</td>\n",
       "      <td>$100B</td>\n",
       "      <td>2018-07-03</td>\n",
       "      <td>E-commerce &amp; direct-to-consumer</td>\n",
       "      <td>Shenzhen</td>\n",
       "      <td>China</td>\n",
       "      <td>Asia</td>\n",
       "      <td>2008</td>\n",
       "      <td>$2B</td>\n",
       "      <td>Tiger Global Management, Sequoia Capital China...</td>\n",
       "    </tr>\n",
       "    <tr>\n",
       "      <th>3</th>\n",
       "      <td>Stripe</td>\n",
       "      <td>$95B</td>\n",
       "      <td>2014-01-23</td>\n",
       "      <td>Fintech</td>\n",
       "      <td>San Francisco</td>\n",
       "      <td>United States</td>\n",
       "      <td>North America</td>\n",
       "      <td>2010</td>\n",
       "      <td>$2B</td>\n",
       "      <td>Khosla Ventures, LowercaseCapital, capitalG</td>\n",
       "    </tr>\n",
       "    <tr>\n",
       "      <th>4</th>\n",
       "      <td>Klarna</td>\n",
       "      <td>$46B</td>\n",
       "      <td>2011-12-12</td>\n",
       "      <td>Fintech</td>\n",
       "      <td>Stockholm</td>\n",
       "      <td>Sweden</td>\n",
       "      <td>Europe</td>\n",
       "      <td>2005</td>\n",
       "      <td>$4B</td>\n",
       "      <td>Institutional Venture Partners, Sequoia Capita...</td>\n",
       "    </tr>\n",
       "  </tbody>\n",
       "</table>\n",
       "</div>"
      ],
      "text/plain": [
       "     Company Valuation Date Joined                         Industry  \\\n",
       "0  Bytedance     $180B  2017-04-07          Artificial intelligence   \n",
       "1     SpaceX     $100B  2012-12-01                            Other   \n",
       "2      SHEIN     $100B  2018-07-03  E-commerce & direct-to-consumer   \n",
       "3     Stripe      $95B  2014-01-23                          Fintech   \n",
       "4     Klarna      $46B  2011-12-12                          Fintech   \n",
       "\n",
       "            City        Country      Continent  Year Founded Funding  \\\n",
       "0        Beijing          China           Asia          2012     $8B   \n",
       "1      Hawthorne  United States  North America          2002     $7B   \n",
       "2       Shenzhen          China           Asia          2008     $2B   \n",
       "3  San Francisco  United States  North America          2010     $2B   \n",
       "4      Stockholm         Sweden         Europe          2005     $4B   \n",
       "\n",
       "                                    Select Investors  \n",
       "0  Sequoia Capital China, SIG Asia Investments, S...  \n",
       "1  Founders Fund, Draper Fisher Jurvetson, Rothen...  \n",
       "2  Tiger Global Management, Sequoia Capital China...  \n",
       "3        Khosla Ventures, LowercaseCapital, capitalG  \n",
       "4  Institutional Venture Partners, Sequoia Capita...  "
      ]
     },
     "execution_count": 3,
     "metadata": {},
     "output_type": "execute_result"
    }
   ],
   "source": [
    "df.head()"
   ]
  },
  {
   "cell_type": "code",
   "execution_count": 4,
   "id": "1c12a710",
   "metadata": {},
   "outputs": [
    {
     "name": "stdout",
     "output_type": "stream",
     "text": [
      "<class 'pandas.core.frame.DataFrame'>\n",
      "RangeIndex: 1074 entries, 0 to 1073\n",
      "Data columns (total 10 columns):\n",
      " #   Column            Non-Null Count  Dtype \n",
      "---  ------            --------------  ----- \n",
      " 0   Company           1074 non-null   object\n",
      " 1   Valuation         1074 non-null   object\n",
      " 2   Date Joined       1074 non-null   object\n",
      " 3   Industry          1074 non-null   object\n",
      " 4   City              1058 non-null   object\n",
      " 5   Country           1074 non-null   object\n",
      " 6   Continent         1074 non-null   object\n",
      " 7   Year Founded      1074 non-null   int64 \n",
      " 8   Funding           1074 non-null   object\n",
      " 9   Select Investors  1073 non-null   object\n",
      "dtypes: int64(1), object(9)\n",
      "memory usage: 84.0+ KB\n"
     ]
    }
   ],
   "source": [
    "df.info()"
   ]
  },
  {
   "cell_type": "code",
   "execution_count": 5,
   "id": "3531618b",
   "metadata": {},
   "outputs": [
    {
     "data": {
      "text/plain": [
       "(1074, 10)"
      ]
     },
     "execution_count": 5,
     "metadata": {},
     "output_type": "execute_result"
    }
   ],
   "source": [
    "df.shape"
   ]
  },
  {
   "cell_type": "code",
   "execution_count": 6,
   "id": "ea266946",
   "metadata": {},
   "outputs": [
    {
     "name": "stdout",
     "output_type": "stream",
     "text": [
      "<class 'pandas.core.frame.DataFrame'>\n",
      "Int64Index: 1057 entries, 0 to 1073\n",
      "Data columns (total 10 columns):\n",
      " #   Column            Non-Null Count  Dtype \n",
      "---  ------            --------------  ----- \n",
      " 0   Company           1057 non-null   object\n",
      " 1   Valuation         1057 non-null   object\n",
      " 2   Date Joined       1057 non-null   object\n",
      " 3   Industry          1057 non-null   object\n",
      " 4   City              1057 non-null   object\n",
      " 5   Country           1057 non-null   object\n",
      " 6   Continent         1057 non-null   object\n",
      " 7   Year Founded      1057 non-null   int64 \n",
      " 8   Funding           1057 non-null   object\n",
      " 9   Select Investors  1057 non-null   object\n",
      "dtypes: int64(1), object(9)\n",
      "memory usage: 90.8+ KB\n"
     ]
    }
   ],
   "source": [
    "# Drop rows with NaN values\n",
    "df.dropna(inplace=True)\n",
    "df.info()"
   ]
  },
  {
   "cell_type": "code",
   "execution_count": 7,
   "id": "3dbbdb87",
   "metadata": {},
   "outputs": [
    {
     "data": {
      "text/plain": [
       "0    1.800000e+11\n",
       "1    1.000000e+11\n",
       "2    1.000000e+11\n",
       "3    9.500000e+10\n",
       "4    4.600000e+10\n",
       "Name: Valuation, dtype: float64"
      ]
     },
     "execution_count": 7,
     "metadata": {},
     "output_type": "execute_result"
    }
   ],
   "source": [
    "# Remove \"$\" and \"B\" and cast \"Valuation\" as float\n",
    "df[\"Valuation\"] = (df[\"Valuation\"]\n",
    "    .str.replace(\"$\", \"\")\n",
    "    .str.replace(\"B\", \"000000000\")\n",
    "    .astype(float)\n",
    ")\n",
    "\n",
    "df[\"Valuation\"].head(5)"
   ]
  },
  {
   "cell_type": "code",
   "execution_count": 8,
   "id": "9987a0dc",
   "metadata": {},
   "outputs": [
    {
     "data": {
      "text/plain": [
       "$1B        59\n",
       "$2B        29\n",
       "$200M      12\n",
       "Unknown    12\n",
       "$4B         9\n",
       "           ..\n",
       "$536M       1\n",
       "$19M        1\n",
       "$946M       1\n",
       "$180M       1\n",
       "$620M       1\n",
       "Name: Funding, Length: 533, dtype: int64"
      ]
     },
     "execution_count": 8,
     "metadata": {},
     "output_type": "execute_result"
    }
   ],
   "source": [
    "# Check for non-numerical values\n",
    "df[\"Funding\"].value_counts()"
   ]
  },
  {
   "cell_type": "code",
   "execution_count": 9,
   "id": "5dfa9304",
   "metadata": {},
   "outputs": [
    {
     "data": {
      "text/plain": [
       "(1045, 10)"
      ]
     },
     "execution_count": 9,
     "metadata": {},
     "output_type": "execute_result"
    }
   ],
   "source": [
    "# Exclude rows with unknown \"Funding\" values\n",
    "df = df[df[\"Funding\"] != \"Unknown\"]\n",
    "df.shape"
   ]
  },
  {
   "cell_type": "code",
   "execution_count": 10,
   "id": "33a11b37",
   "metadata": {},
   "outputs": [
    {
     "data": {
      "text/plain": [
       "0    8.000000e+09\n",
       "1    7.000000e+09\n",
       "2    2.000000e+09\n",
       "3    2.000000e+09\n",
       "4    4.000000e+09\n",
       "Name: Funding, dtype: float64"
      ]
     },
     "execution_count": 10,
     "metadata": {},
     "output_type": "execute_result"
    }
   ],
   "source": [
    "# Remove \"$\" and \"B\" and cast \"Funding\" as float\n",
    "df[\"Funding\"] = (df[\"Funding\"]\n",
    "    .str.replace(\"$\", \"\")\n",
    "    .str.replace(\"B\", \"000000000\")\n",
    "    .str.replace(\"M\", \"000000\")\n",
    "    .astype(float)\n",
    ")\n",
    "\n",
    "df[\"Funding\"].head(5)"
   ]
  },
  {
   "cell_type": "code",
   "execution_count": 11,
   "id": "1b9058b5",
   "metadata": {},
   "outputs": [
    {
     "name": "stdout",
     "output_type": "stream",
     "text": [
      "<class 'pandas.core.frame.DataFrame'>\n",
      "Int64Index: 1045 entries, 0 to 1073\n",
      "Data columns (total 10 columns):\n",
      " #   Column            Non-Null Count  Dtype  \n",
      "---  ------            --------------  -----  \n",
      " 0   Company           1045 non-null   object \n",
      " 1   Valuation         1045 non-null   float64\n",
      " 2   Date Joined       1045 non-null   object \n",
      " 3   Industry          1045 non-null   object \n",
      " 4   City              1045 non-null   object \n",
      " 5   Country           1045 non-null   object \n",
      " 6   Continent         1045 non-null   object \n",
      " 7   Year Founded      1045 non-null   int64  \n",
      " 8   Funding           1045 non-null   float64\n",
      " 9   Select Investors  1045 non-null   object \n",
      "dtypes: float64(2), int64(1), object(7)\n",
      "memory usage: 89.8+ KB\n"
     ]
    }
   ],
   "source": [
    "df.info()"
   ]
  },
  {
   "cell_type": "code",
   "execution_count": 12,
   "id": "df18c7f6",
   "metadata": {},
   "outputs": [
    {
     "data": {
      "text/plain": [
       "array(['Sequoia Capital China, SIG Asia Investments, Sina Weibo, Softbank Group',\n",
       "       'Founders Fund, Draper Fisher Jurvetson, Rothenberg Ventures',\n",
       "       'Tiger Global Management, Sequoia Capital China, Shunwei Capital Partners',\n",
       "       ...,\n",
       "       'Xingwang Investment Management, China Capital Investment Group, Matrix Partners China',\n",
       "       'IAG Capital Partners, Augmentum Fintech, Northzone Ventures',\n",
       "       'Novator Partners, True, Causeway Media Partners'], dtype=object)"
      ]
     },
     "execution_count": 12,
     "metadata": {},
     "output_type": "execute_result"
    }
   ],
   "source": [
    "df[\"Select Investors\"].unique()"
   ]
  },
  {
   "cell_type": "code",
   "execution_count": 13,
   "id": "416abe90",
   "metadata": {},
   "outputs": [
    {
     "data": {
      "text/plain": [
       "1031"
      ]
     },
     "execution_count": 13,
     "metadata": {},
     "output_type": "execute_result"
    }
   ],
   "source": [
    "df[\"Select Investors\"].nunique()"
   ]
  },
  {
   "cell_type": "code",
   "execution_count": 14,
   "id": "9c04a3bf",
   "metadata": {},
   "outputs": [
    {
     "data": {
      "text/plain": [
       "Two Sigma Ventures, Flint Capital, Commerce Ventures                                     2\n",
       "Greylock Partners, Google Ventures, BlackRock                                            2\n",
       "General Atlantic                                                                         2\n",
       "Sequoia Capital                                                                          2\n",
       "Qualcomm Ventures, Accel, Canaan Partners                                                2\n",
       "                                                                                        ..\n",
       "Guozhong Venture Capital Management, Shenzhen Capital Group, Oriental Fortune Capital    1\n",
       "DeFi Technologies, Hypersphere Ventures, M13                                             1\n",
       "Octopus Ventures, Munich Re Ventures, CommerzVentures                                    1\n",
       "Alibaba Group,Co-Stone Venture Capital, Buhuo Venture Capital                            1\n",
       "Novator Partners, True, Causeway Media Partners                                          1\n",
       "Name: Select Investors, Length: 1031, dtype: int64"
      ]
     },
     "execution_count": 14,
     "metadata": {},
     "output_type": "execute_result"
    }
   ],
   "source": [
    "df[\"Select Investors\"].value_counts()"
   ]
  },
  {
   "cell_type": "code",
   "execution_count": 15,
   "id": "71e7fe44",
   "metadata": {},
   "outputs": [],
   "source": [
    "# Split investors and convert to list\n",
    "df[\"Select Investors\"] = df[\"Select Investors\"].str.split(\", \")"
   ]
  },
  {
   "cell_type": "code",
   "execution_count": 16,
   "id": "4d3a23ca",
   "metadata": {},
   "outputs": [
    {
     "name": "stdout",
     "output_type": "stream",
     "text": [
      "<class 'pandas.core.frame.DataFrame'>\n",
      "Int64Index: 1045 entries, 0 to 1073\n",
      "Data columns (total 10 columns):\n",
      " #   Column            Non-Null Count  Dtype  \n",
      "---  ------            --------------  -----  \n",
      " 0   Company           1045 non-null   object \n",
      " 1   Valuation         1045 non-null   float64\n",
      " 2   Date Joined       1045 non-null   object \n",
      " 3   Industry          1045 non-null   object \n",
      " 4   City              1045 non-null   object \n",
      " 5   Country           1045 non-null   object \n",
      " 6   Continent         1045 non-null   object \n",
      " 7   Year Founded      1045 non-null   int64  \n",
      " 8   Funding           1045 non-null   float64\n",
      " 9   Select Investors  1045 non-null   object \n",
      "dtypes: float64(2), int64(1), object(7)\n",
      "memory usage: 89.8+ KB\n"
     ]
    }
   ],
   "source": [
    "df.info()"
   ]
  },
  {
   "cell_type": "code",
   "execution_count": 17,
   "id": "02ccab91",
   "metadata": {},
   "outputs": [
    {
     "data": {
      "text/html": [
       "<div>\n",
       "<style scoped>\n",
       "    .dataframe tbody tr th:only-of-type {\n",
       "        vertical-align: middle;\n",
       "    }\n",
       "\n",
       "    .dataframe tbody tr th {\n",
       "        vertical-align: top;\n",
       "    }\n",
       "\n",
       "    .dataframe thead th {\n",
       "        text-align: right;\n",
       "    }\n",
       "</style>\n",
       "<table border=\"1\" class=\"dataframe\">\n",
       "  <thead>\n",
       "    <tr style=\"text-align: right;\">\n",
       "      <th></th>\n",
       "      <th>Company</th>\n",
       "      <th>Valuation</th>\n",
       "      <th>Date Joined</th>\n",
       "      <th>Industry</th>\n",
       "      <th>City</th>\n",
       "      <th>Country</th>\n",
       "      <th>Continent</th>\n",
       "      <th>Year Founded</th>\n",
       "      <th>Funding</th>\n",
       "      <th>Select Investors</th>\n",
       "    </tr>\n",
       "  </thead>\n",
       "  <tbody>\n",
       "    <tr>\n",
       "      <th>0</th>\n",
       "      <td>Bytedance</td>\n",
       "      <td>1.800000e+11</td>\n",
       "      <td>2017-04-07</td>\n",
       "      <td>Artificial intelligence</td>\n",
       "      <td>Beijing</td>\n",
       "      <td>China</td>\n",
       "      <td>Asia</td>\n",
       "      <td>2012</td>\n",
       "      <td>8.000000e+09</td>\n",
       "      <td>Sequoia Capital China</td>\n",
       "    </tr>\n",
       "    <tr>\n",
       "      <th>0</th>\n",
       "      <td>Bytedance</td>\n",
       "      <td>1.800000e+11</td>\n",
       "      <td>2017-04-07</td>\n",
       "      <td>Artificial intelligence</td>\n",
       "      <td>Beijing</td>\n",
       "      <td>China</td>\n",
       "      <td>Asia</td>\n",
       "      <td>2012</td>\n",
       "      <td>8.000000e+09</td>\n",
       "      <td>SIG Asia Investments</td>\n",
       "    </tr>\n",
       "    <tr>\n",
       "      <th>0</th>\n",
       "      <td>Bytedance</td>\n",
       "      <td>1.800000e+11</td>\n",
       "      <td>2017-04-07</td>\n",
       "      <td>Artificial intelligence</td>\n",
       "      <td>Beijing</td>\n",
       "      <td>China</td>\n",
       "      <td>Asia</td>\n",
       "      <td>2012</td>\n",
       "      <td>8.000000e+09</td>\n",
       "      <td>Sina Weibo</td>\n",
       "    </tr>\n",
       "    <tr>\n",
       "      <th>0</th>\n",
       "      <td>Bytedance</td>\n",
       "      <td>1.800000e+11</td>\n",
       "      <td>2017-04-07</td>\n",
       "      <td>Artificial intelligence</td>\n",
       "      <td>Beijing</td>\n",
       "      <td>China</td>\n",
       "      <td>Asia</td>\n",
       "      <td>2012</td>\n",
       "      <td>8.000000e+09</td>\n",
       "      <td>Softbank Group</td>\n",
       "    </tr>\n",
       "    <tr>\n",
       "      <th>1</th>\n",
       "      <td>SpaceX</td>\n",
       "      <td>1.000000e+11</td>\n",
       "      <td>2012-12-01</td>\n",
       "      <td>Other</td>\n",
       "      <td>Hawthorne</td>\n",
       "      <td>United States</td>\n",
       "      <td>North America</td>\n",
       "      <td>2002</td>\n",
       "      <td>7.000000e+09</td>\n",
       "      <td>Founders Fund</td>\n",
       "    </tr>\n",
       "  </tbody>\n",
       "</table>\n",
       "</div>"
      ],
      "text/plain": [
       "     Company     Valuation Date Joined                 Industry       City  \\\n",
       "0  Bytedance  1.800000e+11  2017-04-07  Artificial intelligence    Beijing   \n",
       "0  Bytedance  1.800000e+11  2017-04-07  Artificial intelligence    Beijing   \n",
       "0  Bytedance  1.800000e+11  2017-04-07  Artificial intelligence    Beijing   \n",
       "0  Bytedance  1.800000e+11  2017-04-07  Artificial intelligence    Beijing   \n",
       "1     SpaceX  1.000000e+11  2012-12-01                    Other  Hawthorne   \n",
       "\n",
       "         Country      Continent  Year Founded       Funding  \\\n",
       "0          China           Asia          2012  8.000000e+09   \n",
       "0          China           Asia          2012  8.000000e+09   \n",
       "0          China           Asia          2012  8.000000e+09   \n",
       "0          China           Asia          2012  8.000000e+09   \n",
       "1  United States  North America          2002  7.000000e+09   \n",
       "\n",
       "        Select Investors  \n",
       "0  Sequoia Capital China  \n",
       "0   SIG Asia Investments  \n",
       "0             Sina Weibo  \n",
       "0         Softbank Group  \n",
       "1          Founders Fund  "
      ]
     },
     "execution_count": 17,
     "metadata": {},
     "output_type": "execute_result"
    }
   ],
   "source": [
    "# Explode \"Select Investors\" to individual list\n",
    "df = df.explode(\"Select Investors\")\n",
    "df.head()"
   ]
  },
  {
   "cell_type": "code",
   "execution_count": 18,
   "id": "60eca504",
   "metadata": {},
   "outputs": [
    {
     "name": "stdout",
     "output_type": "stream",
     "text": [
      "<class 'pandas.core.frame.DataFrame'>\n",
      "Int64Index: 2974 entries, 0 to 1073\n",
      "Data columns (total 10 columns):\n",
      " #   Column            Non-Null Count  Dtype  \n",
      "---  ------            --------------  -----  \n",
      " 0   Company           2974 non-null   object \n",
      " 1   Valuation         2974 non-null   float64\n",
      " 2   Date Joined       2974 non-null   object \n",
      " 3   Industry          2974 non-null   object \n",
      " 4   City              2974 non-null   object \n",
      " 5   Country           2974 non-null   object \n",
      " 6   Continent         2974 non-null   object \n",
      " 7   Year Founded      2974 non-null   int64  \n",
      " 8   Funding           2974 non-null   float64\n",
      " 9   Select Investors  2974 non-null   object \n",
      "dtypes: float64(2), int64(1), object(7)\n",
      "memory usage: 255.6+ KB\n"
     ]
    }
   ],
   "source": [
    "df.info()"
   ]
  },
  {
   "cell_type": "code",
   "execution_count": 19,
   "id": "8346cd8e",
   "metadata": {
    "scrolled": true
   },
   "outputs": [
    {
     "data": {
      "text/plain": [
       "Accel                       59\n",
       "Tiger Global Management     52\n",
       "Andreessen Horowitz         52\n",
       "Insight Partners            46\n",
       "Sequoia Capital China       45\n",
       "                            ..\n",
       "Go-Ventures                  1\n",
       "Lockheed Martin Ventures     1\n",
       "GAM Holding                  1\n",
       "HOF Capital                  1\n",
       "Causeway Media Partners      1\n",
       "Name: Select Investors, Length: 1235, dtype: int64"
      ]
     },
     "execution_count": 19,
     "metadata": {},
     "output_type": "execute_result"
    }
   ],
   "source": [
    "df[\"Select Investors\"].value_counts()"
   ]
  },
  {
   "cell_type": "code",
   "execution_count": 20,
   "id": "2a9af631",
   "metadata": {},
   "outputs": [],
   "source": [
    "# Import the clean df to folder\n",
    "df.to_csv(\"Unicorn+Companies/unicorn_companies_clean.csv\", index=False)"
   ]
  }
 ],
 "metadata": {
  "kernelspec": {
   "display_name": "Python 3",
   "language": "python",
   "name": "python3"
  },
  "language_info": {
   "codemirror_mode": {
    "name": "ipython",
    "version": 3
   },
   "file_extension": ".py",
   "mimetype": "text/x-python",
   "name": "python",
   "nbconvert_exporter": "python",
   "pygments_lexer": "ipython3",
   "version": "3.8.11"
  }
 },
 "nbformat": 4,
 "nbformat_minor": 5
}
